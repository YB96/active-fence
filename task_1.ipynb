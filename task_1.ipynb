{
 "cells": [
  {
   "cell_type": "code",
   "execution_count": null,
   "metadata": {},
   "outputs": [],
   "source": [
    "#!pip install pandas selenium"
   ]
  },
  {
   "cell_type": "code",
   "execution_count": 3,
   "metadata": {},
   "outputs": [],
   "source": [
    "import pandas as pd\n",
    "from selenium import webdriver\n",
    "from selenium.webdriver.chrome.options import Options\n",
    "from selenium.webdriver.common.by import By\n",
    "from selenium.webdriver.chrome.service import Service\n",
    "from selenium.webdriver.common.keys import Keys\n",
    "from selenium.webdriver.support.ui import WebDriverWait\n",
    "from selenium.webdriver.support import expected_conditions as EC\n",
    "import time"
   ]
  },
  {
   "cell_type": "code",
   "execution_count": 4,
   "metadata": {},
   "outputs": [],
   "source": [
    "url = 'https://www.instagram.com/bbc/'"
   ]
  },
  {
   "cell_type": "code",
   "execution_count": 5,
   "metadata": {},
   "outputs": [],
   "source": [
    "options = webdriver.ChromeOptions()\n",
    "service = Service(\"D:\\\\backup\\\\chromedriver.exe\")\n",
    "driver = webdriver.Chrome(service=service, options=options)"
   ]
  },
  {
   "cell_type": "code",
   "execution_count": 6,
   "metadata": {},
   "outputs": [],
   "source": [
    "driver.get(url)\n",
    "time.sleep(2)"
   ]
  },
  {
   "cell_type": "code",
   "execution_count": 7,
   "metadata": {},
   "outputs": [],
   "source": [
    "try:\n",
    "    # Extract the title of the page (username)\n",
    "    title = driver.find_element(By.CLASS_NAME,\"x1qjc9v5.x78zum5.x1q0g3np.x2lah0s.x1n2onr6.x1qsaojo.xc2v4qs.x1xl8k2i.x1ez9qw7.x1kcpa7z\")\n",
    "    title_of_page = driver.find_elements(By.CLASS_NAME,\"x58vhm7\")[0].text.split()[0]\n",
    "    \n",
    "    # Extract the profile image link\n",
    "    image_link = driver.find_elements(By.CLASS_NAME,\"x58vhm7\")[0].find_element(By.CLASS_NAME,\"xh8yej3\").get_attribute(\"src\")\n",
    "    \n",
    "    # Extract the bio/description\n",
    "    desc_element = driver.find_elements(By.CLASS_NAME,\"x58vhm7\")[0].find_element(By.CLASS_NAME,\"xbjc6do\")\n",
    "    if desc_element:\n",
    "        desc = \" \".join(desc_element.text.split()[2:])\n",
    "    \n",
    "    # Extract stats (posts, followers, following)\n",
    "    stats = title.find_elements(By.CLASS_NAME,\"x78zum5.x1q0g3np.xieb3on\")\n",
    "    if len(stats) > 0:\n",
    "        stats_text = stats[0].text.split()\n",
    "        posts = stats_text[0]\n",
    "        followers = stats_text[2]\n",
    "        following = stats_text[4]\n",
    "except Exception as e:\n",
    "            print(f\"Error extracting data from the profile: {e}\")"
   ]
  },
  {
   "cell_type": "markdown",
   "metadata": {},
   "source": [
    "### 50 posts"
   ]
  },
  {
   "cell_type": "code",
   "execution_count": 8,
   "metadata": {},
   "outputs": [],
   "source": [
    "for_more_post = driver.find_elements(By.CLASS_NAME,\"x1lugfcp\")"
   ]
  },
  {
   "cell_type": "code",
   "execution_count": 9,
   "metadata": {},
   "outputs": [
    {
     "data": {
      "text/plain": [
       "1"
      ]
     },
     "execution_count": 9,
     "metadata": {},
     "output_type": "execute_result"
    }
   ],
   "source": [
    "len(for_more_post)"
   ]
  },
  {
   "cell_type": "code",
   "execution_count": 11,
   "metadata": {},
   "outputs": [],
   "source": [
    "#need to click twice for 45 posts, for 50 posts need a instagram account.\n",
    "for_more_post[0].click()"
   ]
  },
  {
   "cell_type": "markdown",
   "metadata": {},
   "source": [
    "### Interactions"
   ]
  },
  {
   "cell_type": "code",
   "execution_count": 12,
   "metadata": {},
   "outputs": [],
   "source": [
    "posts = driver.find_elements(By.CLASS_NAME,\"_ac7v.xzboxd6.x11ulueq.x1f01sob.xwq5r7b.xcghwft\")"
   ]
  },
  {
   "cell_type": "code",
   "execution_count": null,
   "metadata": {},
   "outputs": [],
   "source": [
    "len(posts)"
   ]
  },
  {
   "cell_type": "code",
   "execution_count": null,
   "metadata": {},
   "outputs": [],
   "source": [
    "#posts"
   ]
  },
  {
   "cell_type": "code",
   "execution_count": 13,
   "metadata": {},
   "outputs": [
    {
     "data": {
      "text/plain": [
       "[<selenium.webdriver.remote.webelement.WebElement (session=\"30b917dca2193de1408d9f8344b9d10c\", element=\"f.EEE26469FBF77BAE5A4E7C2D24F2D100.d.69C39135241D5B70385E4C688BD68D95.e.79\")>,\n",
       " <selenium.webdriver.remote.webelement.WebElement (session=\"30b917dca2193de1408d9f8344b9d10c\", element=\"f.EEE26469FBF77BAE5A4E7C2D24F2D100.d.69C39135241D5B70385E4C688BD68D95.e.80\")>,\n",
       " <selenium.webdriver.remote.webelement.WebElement (session=\"30b917dca2193de1408d9f8344b9d10c\", element=\"f.EEE26469FBF77BAE5A4E7C2D24F2D100.d.69C39135241D5B70385E4C688BD68D95.e.81\")>]"
      ]
     },
     "execution_count": 13,
     "metadata": {},
     "output_type": "execute_result"
    }
   ],
   "source": [
    "posts[0].find_elements(By.CLASS_NAME,\"x9i3mqj\")"
   ]
  },
  {
   "cell_type": "code",
   "execution_count": 14,
   "metadata": {},
   "outputs": [
    {
     "data": {
      "text/plain": [
       "'https://www.instagram.com/bbc/reel/C7oSPosoGpg/'"
      ]
     },
     "execution_count": 14,
     "metadata": {},
     "output_type": "execute_result"
    }
   ],
   "source": [
    "posts[0].find_elements(By.CLASS_NAME,\"x9i3mqj\")[0].find_element(By.CLASS_NAME,\"_a6hd\").get_attribute('href')"
   ]
  },
  {
   "cell_type": "code",
   "execution_count": 15,
   "metadata": {},
   "outputs": [],
   "source": [
    "links_1 = []\n",
    "for l1 in range(len(posts)):\n",
    "    links_1.append(posts[l1].find_elements(By.CLASS_NAME,\"x9i3mqj\")[0].find_element(By.CLASS_NAME,\"_a6hd\").get_attribute('href'))\n",
    "    links_1.append(posts[l1].find_elements(By.CLASS_NAME,\"x9i3mqj\")[1].find_element(By.CLASS_NAME,\"_a6hd\").get_attribute('href'))\n",
    "    links_1.append(posts[l1].find_elements(By.CLASS_NAME,\"x9i3mqj\")[2].find_element(By.CLASS_NAME,\"_a6hd\").get_attribute('href'))"
   ]
  },
  {
   "cell_type": "code",
   "execution_count": 16,
   "metadata": {},
   "outputs": [],
   "source": [
    "#links_1"
   ]
  },
  {
   "cell_type": "code",
   "execution_count": 17,
   "metadata": {},
   "outputs": [
    {
     "data": {
      "text/plain": [
       "24"
      ]
     },
     "execution_count": 17,
     "metadata": {},
     "output_type": "execute_result"
    }
   ],
   "source": [
    "len(links_1)"
   ]
  },
  {
   "cell_type": "code",
   "execution_count": 18,
   "metadata": {},
   "outputs": [],
   "source": [
    "driver.get(links_1[12])"
   ]
  },
  {
   "cell_type": "markdown",
   "metadata": {},
   "source": [
    "### Links"
   ]
  },
  {
   "cell_type": "code",
   "execution_count": 19,
   "metadata": {},
   "outputs": [
    {
     "data": {
      "text/plain": [
       "'369'"
      ]
     },
     "execution_count": 19,
     "metadata": {},
     "output_type": "execute_result"
    }
   ],
   "source": [
    "driver.find_elements(By.CLASS_NAME,\"html-span.xdj266r.x11i5rnm.xat24cr\")[0].text"
   ]
  },
  {
   "cell_type": "code",
   "execution_count": 20,
   "metadata": {},
   "outputs": [],
   "source": [
    "likes = []"
   ]
  },
  {
   "cell_type": "code",
   "execution_count": null,
   "metadata": {},
   "outputs": [],
   "source": [
    "for link in range(len(links_1)):\n",
    "    driver.get(links_1[link])\n",
    "    time.sleep(3)\n",
    "    try:\n",
    "        likes.append(driver.find_elements(By.CLASS_NAME,\"html-span.xdj266r.x11i5rnm.xat24cr\")[0].text)\n",
    "    except:\n",
    "        likes.append(\" \")"
   ]
  },
  {
   "cell_type": "code",
   "execution_count": null,
   "metadata": {},
   "outputs": [],
   "source": [
    "#len(likes)\n",
    "len(links_1)"
   ]
  },
  {
   "cell_type": "code",
   "execution_count": null,
   "metadata": {},
   "outputs": [],
   "source": [
    "data = pd.DataFrame(\n",
    "    {\n",
    "        \"User Name\": [title_of_page],\n",
    "        \"User Image\": [image_link],\n",
    "        \"Bio\": [desc],\n",
    "        \"Number of Posts\": [posts],\n",
    "        \"Number of followers\": [followers],\n",
    "        \"Number of following\": [following]\n",
    "    }\n",
    ")"
   ]
  },
  {
   "cell_type": "code",
   "execution_count": null,
   "metadata": {},
   "outputs": [],
   "source": [
    "data"
   ]
  },
  {
   "cell_type": "code",
   "execution_count": null,
   "metadata": {},
   "outputs": [],
   "source": [
    "data_50_posts = pd.DataFrame(\n",
    "    {\"Links\":links_1,\n",
    "     \"Likes/Interaction\" :likes}\n",
    ")"
   ]
  },
  {
   "cell_type": "code",
   "execution_count": null,
   "metadata": {},
   "outputs": [],
   "source": [
    "with pd.ExcelWriter('output.xlsx') as writer:\n",
    "    data.to_excel(writer, sheet_name='Account Info')\n",
    "    data_50_posts.to_excel(writer, sheet_name='Interactions of 50 posts')"
   ]
  },
  {
   "cell_type": "code",
   "execution_count": null,
   "metadata": {},
   "outputs": [],
   "source": []
  }
 ],
 "metadata": {
  "kernelspec": {
   "display_name": "Python 3",
   "language": "python",
   "name": "python3"
  },
  "language_info": {
   "codemirror_mode": {
    "name": "ipython",
    "version": 3
   },
   "file_extension": ".py",
   "mimetype": "text/x-python",
   "name": "python",
   "nbconvert_exporter": "python",
   "pygments_lexer": "ipython3",
   "version": "3.11.9"
  }
 },
 "nbformat": 4,
 "nbformat_minor": 2
}
